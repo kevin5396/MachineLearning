{
 "cells": [
  {
   "cell_type": "markdown",
   "metadata": {},
   "source": [
    "# Perceptron Learning Algorithm\n",
    "This test is for homework1 of the course _Learning from Data_"
   ]
  },
  {
   "cell_type": "code",
   "execution_count": 5,
   "metadata": {
    "collapsed": true
   },
   "outputs": [],
   "source": [
    "from perceptron import *\n",
    "TEST_TIMES = 1000\n",
    "def test(N):\n",
    "    # generate data for training\n",
    "    total_iter = 0\n",
    "    total_diff = 0\n",
    "    for i in range(TEST_TIMES):\n",
    "        data, Y, target = generate_sample(N)\n",
    "        pp = PerceptronLearning(data, Y)\n",
    "        total_iter += pp.iter_time\n",
    "        \n",
    "        # find the difference between the target function and the model\n",
    "        data = generate_points(10000)\n",
    "        targRes = target_result(target, data)\n",
    "        modelRes = pp.classify(data)\n",
    "        \n",
    "        diff = np.where(targRes*modelRes < 0)[0].shape[0]\n",
    "        \n",
    "        total_diff += diff / 10000\n",
    "    \n",
    "    average_iter = total_iter / 1000\n",
    "    average_diff = total_diff / 1000\n",
    "    \n",
    "    print(\"average iterations: %d\\n\" % average_iter)\n",
    "    print(\"average diff: %f\\n\" % average_diff)"
   ]
  },
  {
   "cell_type": "code",
   "execution_count": 8,
   "metadata": {
    "collapsed": false
   },
   "outputs": [
    {
     "name": "stdout",
     "output_type": "stream",
     "text": [
      "average iterations: 10\n",
      "\n",
      "average diff: 0.108737\n",
      "\n"
     ]
    }
   ],
   "source": [
    "test(10)"
   ]
  },
  {
   "cell_type": "code",
   "execution_count": 9,
   "metadata": {
    "collapsed": false
   },
   "outputs": [
    {
     "name": "stdout",
     "output_type": "stream",
     "text": [
      "average iterations: 102\n",
      "\n",
      "average diff: 0.013868\n",
      "\n"
     ]
    }
   ],
   "source": [
    "test(100)"
   ]
  },
  {
   "cell_type": "code",
   "execution_count": null,
   "metadata": {
    "collapsed": true
   },
   "outputs": [],
   "source": []
  }
 ],
 "metadata": {
  "kernelspec": {
   "display_name": "Python [conda root]",
   "language": "python",
   "name": "conda-root-py"
  },
  "language_info": {
   "codemirror_mode": {
    "name": "ipython",
    "version": 3
   },
   "file_extension": ".py",
   "mimetype": "text/x-python",
   "name": "python",
   "nbconvert_exporter": "python",
   "pygments_lexer": "ipython3",
   "version": "3.5.2"
  }
 },
 "nbformat": 4,
 "nbformat_minor": 1
}
